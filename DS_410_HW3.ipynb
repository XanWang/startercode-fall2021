{
  "nbformat": 4,
  "nbformat_minor": 0,
  "metadata": {
    "colab": {
      "name": "DS 410 HW3.ipynb",
      "provenance": [],
      "collapsed_sections": [],
      "authorship_tag": "ABX9TyM+Tb4EmcxBRHS1QymO+dUB",
      "include_colab_link": true
    },
    "kernelspec": {
      "name": "python3",
      "display_name": "Python 3"
    },
    "language_info": {
      "name": "python"
    }
  },
  "cells": [
    {
      "cell_type": "markdown",
      "metadata": {
        "id": "view-in-github",
        "colab_type": "text"
      },
      "source": [
        "<a href=\"https://colab.research.google.com/github/XanWang/startercode-fall2021/blob/master/DS_410_HW3.ipynb\" target=\"_parent\"><img src=\"https://colab.research.google.com/assets/colab-badge.svg\" alt=\"Open In Colab\"/></a>"
      ]
    },
    {
      "cell_type": "code",
      "metadata": {
        "id": "qI724P65O4DX"
      },
      "source": [
        "from mrjob.job import MRJob\n",
        "\n",
        "class FairCount(MRJob):\n",
        "  def mapper_init(self):\n",
        "    self.cache = {}\n",
        "\n",
        "  def mapper(self, key, line):\n",
        "    for word in line:\n",
        "      self.cache[word] += 1\n",
        "      if( self.cache > len(self.cache)):\n",
        "        for w in self.cache:\n",
        "          yield w, self.cache[w]\n",
        "        self.cache.clear()\n",
        "\n",
        "  def mapper_final(self):\n",
        "    if self.cache is not empty:\n",
        "      for w in self.cache:\n",
        "        yield w, self.cache[w]\n",
        "\n",
        "   def reducer(self, key, values):\n",
        "    yield (key, sum(values))\n",
        "  \n",
        "\n",
        "class LetterCount(MRJob):\n",
        "  def mapper(self, key, line):\n",
        "    for symbol in line:\n",
        "      if isletter(symbol):\n",
        "        yield (symbol, 1)\n",
        "\n",
        "  def reducer(self, key, values):\n",
        "    yield (key, sum(values))\n",
        "\n",
        "if __name__ == '__main__':\n",
        "  FairCount.run() \n"
      ],
      "execution_count": null,
      "outputs": []
    }
  ]
}